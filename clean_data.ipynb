{
 "cells": [
  {
   "cell_type": "code",
   "execution_count": 9,
   "metadata": {
    "scrolled": true
   },
   "outputs": [],
   "source": [
    "\n",
    "import pandas as pd\n",
    "import numpy as np\n",
    "import csv"
   ]
  },
  {
   "cell_type": "code",
   "execution_count": 13,
   "metadata": {
    "scrolled": true
   },
   "outputs": [],
   "source": [
    "df = pd.read_csv(\"Dataset.csv\")"
   ]
  },
  {
   "cell_type": "code",
   "execution_count": 14,
   "metadata": {},
   "outputs": [
    {
     "name": "stdout",
     "output_type": "stream",
     "text": [
      "   YEAR LocationAbbr   LocationDesc                  TopicType  \\\n",
      "0  2004           OH           Ohio  Tobacco Use – Survey Data   \n",
      "1  2008           AL        Alabama  Tobacco Use – Survey Data   \n",
      "2  2015           WV  West Virginia  Tobacco Use – Survey Data   \n",
      "3  2005           IL       Illinois  Tobacco Use – Survey Data   \n",
      "4  2005           CT    Connecticut  Tobacco Use – Survey Data   \n",
      "\n",
      "                       TopicDesc     MeasureDesc DataSource  Response  \\\n",
      "0          Cigarette Use (Youth)  Smoking Status        YTS      Ever   \n",
      "1          Cigarette Use (Youth)  Smoking Status        YTS      Ever   \n",
      "2  Smokeless Tobacco Use (Youth)     User Status        YTS  Frequent   \n",
      "3          Cigarette Use (Youth)  Smoking Status        YTS      Ever   \n",
      "4  Smokeless Tobacco Use (Youth)     User Status        YTS      Ever   \n",
      "\n",
      "  Data_Value_Unit Data_Value_Type  ...                    GeoLocation  \\\n",
      "0               %      Percentage  ...  (40.060210141, -82.404260056)   \n",
      "1               %      Percentage  ...  (32.840571122, -86.631860762)   \n",
      "2               %      Percentage  ...  (38.665510202, -80.712640135)   \n",
      "3               %      Percentage  ...  (40.485010283, -88.997710178)   \n",
      "4               %      Percentage  ...   (41.56266102, -72.649840952)   \n",
      "\n",
      "  TopicTypeId TopicId  MeasureId  StratificationID1  StratificationID2  \\\n",
      "0         BEH  106BEH     166SSA               1GEN               8AGE   \n",
      "1         BEH  106BEH     166SSA               3GEN               8AGE   \n",
      "2         BEH  151BEH     169USS               2GEN               8AGE   \n",
      "3         BEH  106BEH     166SSA               1GEN               8AGE   \n",
      "4         BEH  151BEH     169USS               2GEN               8AGE   \n",
      "\n",
      "   StratificationID3 StratificationID4 SubMeasureID DisplayOrder  \n",
      "0               6RAC              1EDU        YTS08            8  \n",
      "1               6RAC              2EDU        YTS08            8  \n",
      "2               6RAC              2EDU        YTS12           12  \n",
      "3               6RAC              1EDU        YTS08            8  \n",
      "4               6RAC              2EDU        YTS11           11  \n",
      "\n",
      "[5 rows x 31 columns]\n"
     ]
    }
   ],
   "source": [
    "print(df.head ())"
   ]
  },
  {
   "cell_type": "code",
   "execution_count": 15,
   "metadata": {},
   "outputs": [
    {
     "name": "stdout",
     "output_type": "stream",
     "text": [
      "<class 'pandas.core.frame.DataFrame'>\n",
      "RangeIndex: 10600 entries, 0 to 10599\n",
      "Data columns (total 31 columns):\n",
      " #   Column                      Non-Null Count  Dtype  \n",
      "---  ------                      --------------  -----  \n",
      " 0   YEAR                        10600 non-null  int64  \n",
      " 1   LocationAbbr                10600 non-null  object \n",
      " 2   LocationDesc                10600 non-null  object \n",
      " 3   TopicType                   10600 non-null  object \n",
      " 4   TopicDesc                   10600 non-null  object \n",
      " 5   MeasureDesc                 10600 non-null  object \n",
      " 6   DataSource                  10600 non-null  object \n",
      " 7   Response                    8190 non-null   object \n",
      " 8   Data_Value_Unit             10600 non-null  object \n",
      " 9   Data_Value_Type             10600 non-null  object \n",
      " 10  Data_Value                  10080 non-null  float64\n",
      " 11  Data_Value_Footnote_Symbol  517 non-null    object \n",
      " 12  Data_Value_Footnote         517 non-null    object \n",
      " 13  Data_Value_Std_Err          10080 non-null  float64\n",
      " 14  Low_Confidence_Limit        10083 non-null  float64\n",
      " 15  High_Confidence_Limit       10080 non-null  float64\n",
      " 16  Sample_Size                 10080 non-null  float64\n",
      " 17  Gender                      10600 non-null  object \n",
      " 18  Race                        10600 non-null  object \n",
      " 19  Age                         10600 non-null  object \n",
      " 20  Education                   10600 non-null  object \n",
      " 21  GeoLocation                 10596 non-null  object \n",
      " 22  TopicTypeId                 10600 non-null  object \n",
      " 23  TopicId                     10600 non-null  object \n",
      " 24  MeasureId                   10600 non-null  object \n",
      " 25  StratificationID1           10600 non-null  object \n",
      " 26  StratificationID2           10600 non-null  object \n",
      " 27  StratificationID3           10600 non-null  object \n",
      " 28  StratificationID4           10600 non-null  object \n",
      " 29  SubMeasureID                10600 non-null  object \n",
      " 30  DisplayOrder                10600 non-null  int64  \n",
      "dtypes: float64(5), int64(2), object(24)\n",
      "memory usage: 2.5+ MB\n",
      "None\n"
     ]
    }
   ],
   "source": [
    "print(df.info())"
   ]
  },
  {
   "cell_type": "code",
   "execution_count": 16,
   "metadata": {},
   "outputs": [],
   "source": [
    "df.dropna(inplace=True)"
   ]
  },
  {
   "cell_type": "code",
   "execution_count": null,
   "metadata": {},
   "outputs": [],
   "source": [
    "df.fillna("
   ]
  }
 ],
 "metadata": {
  "kernelspec": {
   "display_name": "Python 3 (ipykernel)",
   "language": "python",
   "name": "python3"
  },
  "language_info": {
   "codemirror_mode": {
    "name": "ipython",
    "version": 3
   },
   "file_extension": ".py",
   "mimetype": "text/x-python",
   "name": "python",
   "nbconvert_exporter": "python",
   "pygments_lexer": "ipython3",
   "version": "3.11.7"
  }
 },
 "nbformat": 4,
 "nbformat_minor": 4
}
